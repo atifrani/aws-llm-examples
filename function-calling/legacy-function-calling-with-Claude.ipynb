{
 "cells": [
  {
   "cell_type": "markdown",
   "metadata": {},
   "source": [
    "# Function Calling with Claude 3 on Amazon Bedrock\n",
    "\n",
    "Function calling with Claude on Amazon Bedrock is available with legacy tool use structure. An updated version of tool use with Claude will be available on Bedrock soon. Reference [tool-use for more information on this updated feature set](https://docs.anthropic.com/claude/docs/tool-use).\n",
    "\n",
    "With function calling, we can provide Claude with descriptions of tools and functions it can use, Claude is able to intelligently decide based on user query when and how to use those tools to help answer questions and complete tasks. In its response, Claude will suggest the tools to use to complete a task(s) and the paramters that should be passed when calling those functions. The function and its parameters are typically output by Claude in a well-defined format so that the client can parse and run the associated functions. Reference [legacy function calling with Claude](https://docs.anthropic.com/claude/docs/legacy-tool-use#example-legacy-tool-use-prompt).\n",
    "\n",
    "Behind the scenes, this is a multi-step process:\n",
    "\n",
    "1. The function definitions and user question are both passed to Claude in a single prompt\n",
    "2. Claude not only needs the tools & their descriptions in order to successfully decide whether to use the tools, but likely also accompanying examples of situations in which such tools ought to be used, depending on the complexity of the use case and tools.\n",
    "3. Claude assesses the user's question and decides which function(s) to call and with what arguments\n",
    "4. Claude constructs a properly formatted function call\n",
    "5. The function call is intercepted via client code with a clear stop_sequence, and the actual function is executed on the client side\n",
    "6. The function result is passed back to Claude\n",
    "7. Claude uses the function result to formulate its final response to the user\n",
    "\n",
    "Let's Look at some examples and use cases."
   ]
  },
  {
   "cell_type": "markdown",
   "metadata": {},
   "source": [
    "## Setup"
   ]
  },
  {
   "cell_type": "code",
   "execution_count": null,
   "metadata": {},
   "outputs": [],
   "source": [
    "%pip install --upgrade pip\n",
    "%pip install boto3>=1.33.2 --force-reinstall --quiet\n",
    "%pip install botocore>=1.33.2 --force-reinstall --quiet\n",
    "%pip install json --quiet\n",
    "%pip install beautifulsoup4\n",
    "%pip install lxml"
   ]
  },
  {
   "cell_type": "code",
   "execution_count": null,
   "metadata": {
    "tags": []
   },
   "outputs": [],
   "source": [
    "# restart kernel\n",
    "from IPython.core.display import HTML\n",
    "HTML(\"<script>Jupyter.notebook.kernel.restart()</script>\")"
   ]
  },
  {
   "cell_type": "code",
   "execution_count": 2,
   "metadata": {},
   "outputs": [],
   "source": [
    "from bs4 import BeautifulSoup \n",
    "import boto3\n",
    "import json\n",
    "\n",
    "bedrock_client = boto3.client('bedrock-runtime',region_name='us-east-1')\n"
   ]
  },
  {
   "cell_type": "markdown",
   "metadata": {},
   "source": [
    "### Define some helper functions"
   ]
  },
  {
   "cell_type": "code",
   "execution_count": 60,
   "metadata": {},
   "outputs": [],
   "source": [
    "# Generate response and suggested function call using the invoke method from Bedrock runtime\n",
    "\n",
    "def generate_function_call(bedrock_runtime, model_id, messages, max_tokens=512,top_p=1,temp=0,system=''):\n",
    "\n",
    "    body=json.dumps(\n",
    "        {\n",
    "            \"anthropic_version\": \"bedrock-2023-05-31\",\n",
    "            \"max_tokens\": max_tokens,\n",
    "            \"messages\": messages,\n",
    "            \"temperature\": temp,\n",
    "            \"top_p\": top_p,\n",
    "            \"system\": system,\n",
    "            \"stop_sequences\":[\"</function_calls>\"]\n",
    "        }  \n",
    "    )  \n",
    "    \n",
    "    response = bedrock_runtime.invoke_model(body=body, modelId=model_id)\n",
    "    response_body = json.loads(response.get('body').read())\n",
    "\n",
    "    return response_body"
   ]
  },
  {
   "cell_type": "code",
   "execution_count": 47,
   "metadata": {},
   "outputs": [],
   "source": [
    "# Toy function for outputting ticker symbol from company name\n",
    "\n",
    "def get_ticker_symbol(company_name):\n",
    "    \n",
    "    assert company_name.lower() == \"general motors\", 'TickerNotFound'\n",
    "    \n",
    "    return 'GM'"
   ]
  },
  {
   "cell_type": "code",
   "execution_count": 5,
   "metadata": {},
   "outputs": [],
   "source": [
    "# Format the functions results for input back in to Claude\n",
    "\n",
    "def func_results(tool_name,tool_return):\n",
    "   return f'''\n",
    "<function_results>\n",
    "<result>\n",
    "<tool_name>{tool_name}</tool_name>\n",
    "<stdout>\n",
    "{tool_return}\n",
    "</stdout>\n",
    "</result>\n",
    "</function_results>'''"
   ]
  },
  {
   "cell_type": "code",
   "execution_count": 6,
   "metadata": {},
   "outputs": [],
   "source": [
    "# Parses the output of Claude to extract the suggested function call and parameters\n",
    "\n",
    "def parse_output(response):\n",
    "    soup=BeautifulSoup(response['content'][0]['text'].replace('\\n',''),\"lxml\")\n",
    "    tool_name=soup.tool_name.string\n",
    "    parameter_name=soup.parameters.contents[0].name\n",
    "    parameter_value=soup.parameters.contents[0].string\n",
    "    return (tool_name,{parameter_name:parameter_value})\n",
    "    "
   ]
  },
  {
   "cell_type": "markdown",
   "metadata": {},
   "source": [
    "## Notebook Walkthrough\n",
    "\n",
    "In this notebook, we will take a look at function calling with Claude. We will use the  __MessagesAPI__ format and utilize the __invoke_model__ function from __bedrock-runtime__ within our helper functions to generate a response from Claude. We will also utilize some simple orchestration code to form a loop that will allow Claude to take in the responses from the function call suggested to process and make further suggestions on the next function to call."
   ]
  },
  {
   "cell_type": "code",
   "execution_count": null,
   "metadata": {},
   "outputs": [],
   "source": []
  },
  {
   "cell_type": "markdown",
   "metadata": {},
   "source": [
    "## Function Calling Prompt\n",
    "\n",
    "The prompt that we provide to claude when implementating function calling include several important components:\n",
    "\n",
    "1. An instruction that describes the intent and sets the context for function calling.\n",
    "2. A detailed description of the tool(s) and expected parameters that Claude can suggest the use of.\n",
    "3. An example of the structure of the function call so that it can be parsed by the client code and ran.\n",
    "4. A directive to form a thought process before deciding on a function to call.\n",
    "5. The user query itself\n",
    "\n",
    "Below we will pass our initial prompt with some tools that can be utilized in this toy use-case involving finding the ticker associated with a company. This will involve a function that we will describe to Claude using a tool schema format so it knows what functionlity it has at its disposal. \n"
   ]
  },
  {
   "cell_type": "code",
   "execution_count": null,
   "metadata": {
    "scrolled": true
   },
   "outputs": [],
   "source": [
    "message_list = [\n",
    "    {\n",
    "        \"role\": 'user',\n",
    "        \"content\": [ {\"type\": \"text\", \"text\":\n",
    "       '''In this environment you have access to a set of tools you can use to answer the user's question.\n",
    "\n",
    "You may call them like this:\n",
    "\n",
    "<function_calls>\n",
    "<invoke>\n",
    "<tool_name>$TOOL_NAME</tool_name>\n",
    "<parameters>\n",
    "<$PARAMETER_NAME>$PARAMETER_VALUE</$PARAMETER_NAME>\n",
    "...\n",
    "</parameters>\n",
    "</invoke>\n",
    "</function_calls>\n",
    "\n",
    "Here are the tools available:\n",
    "<tools>\n",
    "<tool_description>\n",
    "<tool_name>get_ticker_symbol</tool_name>\n",
    "<description>Gets the stock ticker symbol for a company searched by name. Returns str: The ticker symbol for the company stock. Raises TickerNotFound: if no matching ticker symbol is found.</description>\n",
    "<parameters>\n",
    "<parameter>\n",
    "<name>company_name</name>\n",
    "<type>string</type>\n",
    "<description>The name of the company.</description>\n",
    "</parameter>\n",
    "</parameters>\n",
    "</tool_description>\n",
    "</tools>\n",
    "\n",
    "Come up with a step by step plan for what steps should be taken, what functions should be called and in \n",
    "what order. Place your thinking between <rationale> tags. Only create this rationale 1 time before \n",
    "creating any other outputs.\n",
    "\n",
    "You will take in any outputs from called functions which will be in <function_results> tags and use \n",
    "them to further suggests next steps and actions to take.\n",
    "\n",
    "\n",
    "User Query: What is the ticker symbol of General Motors?'''}\n",
    "        ]\n",
    "    }\n",
    "]\n",
    "\n",
    "response=generate_function_call(bedrock_client, model_id = \"anthropic.claude-3-sonnet-20240229-v1:0\",messages=message_list,max_tokens=512,temp=0.5,top_p=0.9)\n",
    "print(response['content'][0]['text'])\n",
    "message_list.append({\n",
    "        \"role\": 'assistant',\n",
    "        \"content\": [\n",
    "            {\"type\": \"text\", \"text\": response['content'][0]['text']}\n",
    "        ]})"
   ]
  },
  {
   "cell_type": "markdown",
   "metadata": {},
   "source": [
    "As we can see, because we told Claude to end its suggestion for a function call with a </function_calls> tag and make that a stop sequence, we can now parse the output at the <function_calls> tags and extract the function name we should call and the parameters we should use during our call.\n",
    "\n",
    "__Note__: We designated the stop sequence to be __<\"/function_calls\">__ so that Claude stops outputting additional text when it gets to that sequence so that we can intercept the suggested function call and read it off. See the above __generate_message__ function definition for details."
   ]
  },
  {
   "cell_type": "code",
   "execution_count": 55,
   "metadata": {},
   "outputs": [],
   "source": [
    "tool_name,param=parse_output(response)"
   ]
  },
  {
   "cell_type": "code",
   "execution_count": 56,
   "metadata": {
    "scrolled": true
   },
   "outputs": [],
   "source": [
    "try:\n",
    "    tool_return=eval(tool_name)(**param)\n",
    "except AssertionError as e:\n",
    "    tool_return=e"
   ]
  },
  {
   "cell_type": "code",
   "execution_count": null,
   "metadata": {},
   "outputs": [],
   "source": [
    "# We need to place the function results in an input message to Claude with the following structure:\n",
    "\n",
    "'''<function_results>\n",
    "   <result>\n",
    "   <tool_name>get_ticker_symbol</tool_name>\n",
    "   <stdout>\n",
    "   function_results\n",
    "   </stdout>\n",
    "   </result>\n",
    "   </function_results>'''"
   ]
  },
  {
   "cell_type": "markdown",
   "metadata": {},
   "source": [
    "We will call our function results formatter to do this for us"
   ]
  },
  {
   "cell_type": "code",
   "execution_count": 57,
   "metadata": {},
   "outputs": [],
   "source": [
    "results=func_results(tool_name,tool_return)"
   ]
  },
  {
   "cell_type": "markdown",
   "metadata": {},
   "source": [
    "Next we will append these results as another message to our conversation history and pass to Claude"
   ]
  },
  {
   "cell_type": "code",
   "execution_count": 62,
   "metadata": {},
   "outputs": [],
   "source": [
    "message_list.append({\n",
    "        \"role\": 'user',\n",
    "        \"content\": [\n",
    "            {\"type\": \"text\", \"text\":f\"\"\"This is the final answer to the user question using the function \n",
    "            results. Do not output the name of the functions and tools used to get the answer {results}\"\"\"}\n",
    "        ]})"
   ]
  },
  {
   "cell_type": "code",
   "execution_count": null,
   "metadata": {},
   "outputs": [],
   "source": [
    "response=generate_function_call(bedrock_client, model_id = \"anthropic.claude-3-sonnet-20240229-v1:0\",messages=message_list,max_tokens=512,temp=0.5,top_p=0.9)\n",
    "print(response['content'][0]['text'])"
   ]
  },
  {
   "cell_type": "markdown",
   "metadata": {},
   "source": [
    "Great! We can see that Claude summarizes the results of the function given the context of the conversation history and answers our original question."
   ]
  },
  {
   "cell_type": "markdown",
   "metadata": {},
   "source": [
    "## Next Steps\n",
    "\n",
    "Now that we have seen how to use tools with Claude using the legacy functionality. You can try adding more complexity, including more tools for Claude to use, orchestration loops, a detailed conversation history, and more complicated questions to ask Claude that uses those tools in different ways.\n"
   ]
  }
 ],
 "metadata": {
  "kernelspec": {
   "display_name": "Python 3 (ipykernel)",
   "language": "python",
   "name": "python3"
  },
  "language_info": {
   "codemirror_mode": {
    "name": "ipython",
    "version": 3
   },
   "file_extension": ".py",
   "mimetype": "text/x-python",
   "name": "python",
   "nbconvert_exporter": "python",
   "pygments_lexer": "ipython3",
   "version": "3.10.13"
  }
 },
 "nbformat": 4,
 "nbformat_minor": 4
}
