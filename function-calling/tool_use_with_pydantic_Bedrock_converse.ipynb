{
 "cells": [
  {
   "cell_type": "markdown",
   "metadata": {},
   "source": [
    "# Note-Saving Tool with Pydantic and Anthropic Tool Use\n",
    "\n",
    "In this example, we'll create a tool that saves a note with the author and metadata, and use Pydantic to validate the model's response when calling the tool. We'll define the necessary Pydantic models, process the tool call, and ensure that the model's response conforms to the expected schema."
   ]
  },
  {
   "cell_type": "markdown",
   "metadata": {},
   "source": [
    "## Step 1: Set up the environment\n",
    "First, let's install the required libraries and set up the Anthropic API client."
   ]
  },
  {
   "cell_type": "code",
   "execution_count": null,
   "metadata": {},
   "outputs": [],
   "source": [
    "%pip install -qU boto3 pydantic 'pydantic[email]'"
   ]
  },
  {
   "cell_type": "code",
   "execution_count": 1,
   "metadata": {},
   "outputs": [],
   "source": [
    "import boto3\n",
    "from pydantic import BaseModel, EmailStr, Field\n",
    "from typing import Optional\n",
    "\n",
    "client = boto3.client(\"bedrock-runtime\", region_name=\"us-west-2\")\n",
    "MODEL_NAME = \"anthropic.claude-3-sonnet-20240229-v1:0\""
   ]
  },
  {
   "cell_type": "markdown",
   "metadata": {},
   "source": [
    "## Step 2: Define the Pydantic models\n",
    "\n",
    "We'll define Pydantic models to represent the expected schema for the note, author, and the model's response. This will allow us to validate and type-check the model's response when saving a note."
   ]
  },
  {
   "cell_type": "code",
   "execution_count": 2,
   "metadata": {},
   "outputs": [],
   "source": [
    "class Author(BaseModel):\n",
    "    name: str\n",
    "    email: EmailStr\n",
    "\n",
    "class Note(BaseModel):\n",
    "    note: str\n",
    "    author: Author\n",
    "    tags: Optional[list[str]] = None\n",
    "    priority: int = Field(ge=1, le=5, default=3)\n",
    "    is_public: bool = False\n",
    "\n",
    "class SaveNoteResponse(BaseModel):\n",
    "    success: bool\n",
    "    message: str"
   ]
  },
  {
   "cell_type": "markdown",
   "metadata": {},
   "source": [
    "## Step 3: Define the client-side tool\n",
    "\n",
    "Next, we'll define the client-side tool that our chatbot will use to save notes."
   ]
  },
  {
   "cell_type": "code",
   "execution_count": 16,
   "metadata": {},
   "outputs": [],
   "source": [
    "tools = [\n",
    "    {\n",
    "        \"toolSpec\": {\n",
    "            \"name\": \"save_note\",\n",
    "            \"description\": \"A tool that saves a note with the author and metadata.\",\n",
    "            \"inputSchema\": {\n",
    "                \"json\": {\n",
    "                    \"type\": \"object\",\n",
    "                    \"properties\": {\n",
    "                        \"note\": {\n",
    "                            \"type\": \"string\",\n",
    "                            \"description\": \"The content of the note to be saved.\"\n",
    "                        },\n",
    "                        \"author\": {\n",
    "                            \"type\": \"object\",\n",
    "                            \"properties\": {\n",
    "                                \"name\": {\n",
    "                                    \"type\": \"string\",\n",
    "                                    \"description\": \"The name of the author.\"\n",
    "                                },\n",
    "                                \"email\": {\n",
    "                                    \"type\": \"string\",\n",
    "                                    \"format\": \"email\",\n",
    "                                    \"description\": \"The email address of the author.\"\n",
    "                                }\n",
    "                            },\n",
    "                            \"required\": [\"name\", \"email\"]\n",
    "                        },\n",
    "                        \"priority\": {\n",
    "                            \"type\": \"integer\",\n",
    "                            \"minimum\": 1,\n",
    "                            \"maximum\": 5,\n",
    "                            \"default\": 3,\n",
    "                            \"description\": \"The priority level of the note (1-5).\"\n",
    "                        },\n",
    "                        \"is_public\": {\n",
    "                            \"type\": \"boolean\",\n",
    "                            \"default\": False,\n",
    "                            \"description\": \"Indicates whether the note is publicly accessible.\"\n",
    "                        }\n",
    "                    },\n",
    "                    \"required\": [\"note\", \"author\"]\n",
    "                }\n",
    "            }\n",
    "        }\n",
    "    }\n",
    "]"
   ]
  },
  {
   "cell_type": "markdown",
   "metadata": {},
   "source": [
    "## Step 4: Implement the note-saving tool\n",
    "We'll create a dummy note saving function that just prints out that the note was saved successfully. If you actually want this note to be saved somewhere, you can implement this function."
   ]
  },
  {
   "cell_type": "code",
   "execution_count": 4,
   "metadata": {},
   "outputs": [],
   "source": [
    "def save_note(note: str, author: dict, priority: int = 3, is_public: bool = False) -> None:\n",
    "    print(\"Note saved successfully!\")"
   ]
  },
  {
   "cell_type": "markdown",
   "metadata": {},
   "source": [
    "## Step 5: Process the tool call and generate the response\n",
    "We'll create functions to process the tool call made by Claude and generate the response indicating the success of saving the note."
   ]
  },
  {
   "cell_type": "code",
   "execution_count": 5,
   "metadata": {},
   "outputs": [],
   "source": [
    "def process_tool_call(tool_name, tool_input):\n",
    "    if tool_name == \"save_note\":\n",
    "        note = Note(\n",
    "            note=tool_input[\"note\"],\n",
    "            author=Author(\n",
    "                name=tool_input[\"author\"][\"name\"],\n",
    "                email=tool_input[\"author\"][\"email\"]\n",
    "            ),\n",
    "            priority=tool_input.get(\"priority\", 3),\n",
    "            is_public=tool_input.get(\"is_public\", False)\n",
    "        )\n",
    "        save_note(note.note, note.author.model_dump(), note.priority, note.is_public)\n",
    "        return SaveNoteResponse(success=True, message=\"Note saved successfully!\")\n",
    "\n",
    "def generate_response(save_note_response):\n",
    "    return f\"Response: {save_note_response.message}\""
   ]
  },
  {
   "cell_type": "markdown",
   "metadata": {},
   "source": [
    "## Step 6: Interact with the chatbot\n",
    "\n",
    "Now, let's create a function to interact with the chatbot. We'll send a user message, process the tool call made by Claude, generate the response, validate the model's response using Pydantic, and return the final response to the user."
   ]
  },
  {
   "cell_type": "code",
   "execution_count": 65,
   "metadata": {},
   "outputs": [],
   "source": [
    "def chatbot_interaction(user_message):\n",
    "    print(f\"\\n{'='*50}\\nUser Message: {user_message}\\n{'='*50}\")\n",
    "\n",
    "    messages = [\n",
    "        {\n",
    "            \"role\": \"user\",\n",
    "            \"content\": [\n",
    "                {\n",
    "                    \"text\": user_message\n",
    "                }\n",
    "            ]\n",
    "        }\n",
    "    ]\n",
    "\n",
    "    message = client.converse(\n",
    "        modelId=MODEL_NAME,\n",
    "        inferenceConfig={\n",
    "            \"temperature\": 0,\n",
    "            \"maxTokens\": 4000\n",
    "        },\n",
    "        toolConfig={\n",
    "            'tools': tools\n",
    "        },\n",
    "        messages=messages\n",
    "    )\n",
    "\n",
    "    print(f\"\\nInitial Response:\")\n",
    "    print(f\"Stop Reason: {message['stopReason']}\")\n",
    "    print(f\"Content: {message['output']['message']['content']}\")\n",
    "\n",
    "    if message['stopReason'] == \"tool_use\":\n",
    "        tool_use = next(block for block in message['output']['message']['content'] if \"toolUse\" in block )\n",
    "        tool_name = tool_use['toolUse']['name']\n",
    "        tool_input = tool_use['toolUse']['input']\n",
    "\n",
    "        print(f\"\\nTool Used: {tool_name}\")\n",
    "        print(f\"Tool Input: {tool_input}\")\n",
    "\n",
    "        save_note_response = process_tool_call(tool_name, tool_input)\n",
    "\n",
    "\n",
    "        print(f\"Tool Result: {save_note_response}\")\n",
    "\n",
    "        response = client.converse(\n",
    "            modelId=MODEL_NAME,\n",
    "            inferenceConfig={\n",
    "                \"temperature\": 0,\n",
    "                \"maxTokens\": 4000\n",
    "            },\n",
    "            messages=[\n",
    "                {\n",
    "                    \"role\": \"user\",\n",
    "                    \"content\": [{\n",
    "                        \"text\": user_message\n",
    "                    }]\n",
    "                },\n",
    "                {\n",
    "                    \"role\": \"assistant\",\n",
    "                    \"content\": message['output']['message']['content']\n",
    "                },\n",
    "                {\n",
    "                    \"role\": \"user\",\n",
    "                    \"content\": [\n",
    "                        {\n",
    "                            \"toolResult\": {\n",
    "                                \"toolUseId\": tool_use['toolUse']['toolUseId'],\n",
    "                                \"content\": [{\n",
    "                                    \"text\": str(save_note_response),\n",
    "                                }]\n",
    "                            }\n",
    "                        }\n",
    "                    ],\n",
    "                },\n",
    "            ],\n",
    "            toolConfig={\n",
    "                'tools': tools\n",
    "            },\n",
    "        )\n",
    "    else:\n",
    "        response = message\n",
    "\n",
    "    final_response = next(\n",
    "        (block['text'] for block in response['output']['message']['content'] if \"text\" in block)\n",
    "        ,None,\n",
    "    )\n",
    "    print(response['output']['message']['content'])\n",
    "    print(f\"\\nFinal Response: {final_response}\")\n",
    "\n",
    "    return final_response"
   ]
  },
  {
   "cell_type": "markdown",
   "metadata": {},
   "source": [
    "## Step 7: Test the chatbot\n",
    "Let's test our chatbot with a sample query to save a note."
   ]
  },
  {
   "cell_type": "code",
   "execution_count": 66,
   "metadata": {},
   "outputs": [
    {
     "name": "stdout",
     "output_type": "stream",
     "text": [
      "\n",
      "==================================================\n",
      "User Message: \n",
      "Can you save a private note with the following details?\n",
      "Note: Remember to buy milk and eggs.\n",
      "Author: John Doe (johndoe@gmail.com)\n",
      "Priority: 4\n",
      "\n",
      "==================================================\n",
      "\n",
      "Initial Response:\n",
      "Stop Reason: tool_use\n",
      "Content: [{'text': 'Here is how we can save the note with the provided details:'}, {'toolUse': {'toolUseId': 'tooluse_0fOzh3ZASFqVxAHIKigeAw', 'name': 'save_note', 'input': {'note': 'Remember to buy milk and eggs.', 'author': {'name': 'John Doe', 'email': 'johndoe@gmail.com'}, 'priority': 4, 'is_public': False}}}]\n",
      "\n",
      "Tool Used: save_note\n",
      "Tool Input: {'note': 'Remember to buy milk and eggs.', 'author': {'name': 'John Doe', 'email': 'johndoe@gmail.com'}, 'priority': 4, 'is_public': False}\n",
      "Note saved successfully!\n",
      "Tool Result: success=True message='Note saved successfully!'\n",
      "[{'text': 'Great, the note \"Remember to buy milk and eggs.\" has been successfully saved as a private note with priority 4 for the author John Doe (johndoe@gmail.com).'}]\n",
      "\n",
      "Final Response: Great, the note \"Remember to buy milk and eggs.\" has been successfully saved as a private note with priority 4 for the author John Doe (johndoe@gmail.com).\n"
     ]
    },
    {
     "data": {
      "text/plain": [
       "'Great, the note \"Remember to buy milk and eggs.\" has been successfully saved as a private note with priority 4 for the author John Doe (johndoe@gmail.com).'"
      ]
     },
     "execution_count": 66,
     "metadata": {},
     "output_type": "execute_result"
    }
   ],
   "source": [
    "chatbot_interaction(\"\"\"\n",
    "Can you save a private note with the following details?\n",
    "Note: Remember to buy milk and eggs.\n",
    "Author: John Doe (johndoe@gmail.com)\n",
    "Priority: 4\n",
    "\"\"\")"
   ]
  },
  {
   "cell_type": "markdown",
   "metadata": {},
   "source": [
    "In this example, we've created a tool that saves a note with the author and metadata. The chatbot uses the save_note tool to save the note, and Pydantic is used to validate the model's response when calling the tool. The Note, Author, and SaveNoteResponse models ensure that the tool input and the model's response conform to the expected schema.\n",
    "\n",
    "By defining clear Pydantic models and using them to validate the model's response, we add an extra layer of reliability and safety when interacting with the chatbot and saving notes."
   ]
  }
 ],
 "metadata": {
  "kernelspec": {
   "display_name": "Python 3",
   "language": "python",
   "name": "python3"
  },
  "language_info": {
   "codemirror_mode": {
    "name": "ipython",
    "version": 3
   },
   "file_extension": ".py",
   "mimetype": "text/x-python",
   "name": "python",
   "nbconvert_exporter": "python",
   "pygments_lexer": "ipython3",
   "version": "3.12.3"
  }
 },
 "nbformat": 4,
 "nbformat_minor": 2
}
